{
  "nbformat": 4,
  "nbformat_minor": 0,
  "metadata": {
    "colab": {
      "provenance": []
    },
    "kernelspec": {
      "name": "python3",
      "display_name": "Python 3"
    },
    "language_info": {
      "name": "python"
    }
  },
  "cells": [
    {
      "cell_type": "markdown",
      "source": [
        "# Data Structure\n",
        "1. What are data structures, and why are they important?\n",
        " - Data structures are specialized formats for organizing, managing, and storing data in a way that allows for efficient access and modification.\n",
        " -  They are important because they are efficient in data management,opmitization of algorithims, Scalability, Problem-Solving Flexibility, etc.\n",
        "2. Explain the difference between mutable and immutable data types with examples?\n",
        " - A mutable data type is one whose value can be modified after it is created. example:- List\n",
        " - An immutable data type is one whose value cannot be changed after it is created. example Tuple\n",
        "3. What are the main differences between lists and tuples in Python?\n",
        " - The first difference is that list are mutable and tuples are immutable\n",
        " - Secound difference is the syntax.\n",
        " - Third difference is that list are generally slower than tuples because they allow dynamic  and modification. While tuples are faster because they had a  samiplier internal structure due to immutability.\n",
        "4. Describe how dictionaries store data.\n",
        " - A dictionary stores data in the form of key-value pairs , where:\n",
        " - Key : A unique identifier used to access the corresponding value.\n",
        " - Value : The data associated with the key.\n",
        "Keys must be hashable (immutable types like strings, numbers, or tuples), while values can be of any type (mutable or immutable).\n",
        "\n",
        "5. Why might you use a set instead of a list in Python?\n",
        " - In uniqueness od the elements like, automatically ensure that all elements are unique. If you attempt to add a duplicate element to a set, it will be ignored. Meanwhile, list allows the duplicating the elements.\n",
        "\n",
        "6. What is a string in Python, and how is it different from a list?\n",
        " - A string in Python is a sequence of characters enclosed in single quotes (')and double quotes (\").\n",
        " -  They are different in many ways like strings are immutable data typle, while list are mutable data type. Another difference difference is that string is the collection of character data type while list can collect any data type like interger float value, string, etc.\n",
        "\n",
        "7. How do tuples ensure data integrity in Python?\n",
        " - Tuples ensure data integratity in several ways like by immutability that prevent accidental modification, Tuples Can Be Used as Keys in Dictionaries, etc.\n",
        "\n",
        "8. What is a hash table, and how does it relate to dictionaries in Python?\n",
        " - A hash table (also known as a hash map) is a data structure that provides efficient insertion, deletion, and lookup operations. It uses a hash function to compute an index into an array of buckets or slots, from which the desired value can be found.\n",
        "  - In Python, dictionaries (dict) are implemented using hash tables under the hood. A dictionary is essentially a collection of key-value pairs, where each key is mapped to a value. The hash table mechanism ensures that dictionary operations like adding, removing, and looking up elements are performed efficiently.\n",
        "\n",
        "9. Can lists contain different data types in Python?\n",
        " - Yes, lists in Python can contain elements of different data types.\n",
        "\n",
        "10. Explain why strings are immutable in Python?\n",
        " - Strings are immutable in Python to ensure data integrity and efficiency . Once a string is created, its content cannot be changed. Any modification (e.g., replacing a character) creates a new string instead of altering the original.\n",
        "11. What advantages do dictionaries offer over lists for certain tasks?\n",
        " - There are several advantages of dictionaries over lists like Faster data retrival, key-value association, efficient data oragnized, etc.\n",
        "12. Describe a scenario where using a tuple would be preferable over a list?\n",
        " - tuple would be preferable over a list is when representing fixed, immutable data that should not be changed throughout the program's execution. For example, when storing geographical coordinates.\n",
        "\n",
        "13. How do sets handle duplicate values in Python?\n",
        " - Sets in Python handle duplicate values by automatically eliminating them, ensuring that each element in the set is unique.\n",
        "14. How does the “in” keyword work differently for lists and dictionaries?\n",
        " - The \"in\" keyword operates differently for lists and dictionaries in Python, primarily due to their underlying implementations. For lists, the \"in\" operator performs a linear search, checking each element sequentially until a match is found or the end of the list is reached. This results in a time complexity of O(n), where n is the number of elements in the list. In contrast, dictionaries use a hash table implementation, allowing for constant-time O(1) lookups on average, regardless of the dictionary's size. When using \"in\" with a dictionary, it checks for the presence of a key, not a value. This fundamental difference makes dictionaries significantly faster for membership testing, especially with large datasets\n",
        "15. Can you modify the elements of a tuple? Explain why or why not?\n",
        " - No, because tuples in Python are immutable, which means you cannot directly modify their elements after creation.\n",
        "16. What is a nested dictionary, and give an example of its use case?\n",
        " - A nested dictionary in Python is a dictionary that contains other dictionaries as its values, creating a hierarchical or multi-level data structure. This allows for more complex and organized data representation.\n",
        "\n",
        "17. Describe the time complexity of accessing elements in a dictionary?\n",
        " - The time complexity of accessing elements in a Python dictionary is typically O(1) on average, which means it takes constant time regardless of the dictionary's size.\n",
        "18. In what situations are lists preferred over dictionaries?\n",
        " - Dictionaries are perferred in several sitution like ordered list, indexing, homogeneous data, etc.\n",
        "19. Why are dictionaries considered unordered, and how does that affect data retrieval?\n",
        "- The unordered nature (or now, the ordered-but-not-indexed nature) of dictionaries is crucial for efficient data structure selection and manipulation in Python programming.\n",
        "20. Explain the difference between a list and a dictionary in terms of data retrieval.\n",
        " - Lists and dictionaries in Python differ significantly in terms of data retrieval. Lists are ordered collections where elements are accessed by numerical indices, resulting in O(n) time complexity for lookups. This means search time increases linearly with the list's size. Dictionaries, on the other hand, use a hash table implementation, allowing for O(1) average time complexity for key-based lookups, regardless of the dictionary's size. This makes dictionaries significantly faster for retrieving specific elements, especially in large datasets."
      ],
      "metadata": {
        "id": "u1LPQPhH9FJc"
      }
    },
    {
      "cell_type": "code",
      "execution_count": 2,
      "metadata": {
        "id": "uYwlaBYl8pxW",
        "colab": {
          "base_uri": "https://localhost:8080/"
        },
        "outputId": "c439649d-b051-4cc8-d0f4-baa4234d7220"
      },
      "outputs": [
        {
          "output_type": "stream",
          "name": "stdout",
          "text": [
            "Hellow world\n"
          ]
        }
      ],
      "source": [
        "#  Write a code to create a string with your name and print it.\n",
        "a = \"Hellow world\"\n",
        "print(a)"
      ]
    },
    {
      "cell_type": "code",
      "source": [
        "# Write a code to find the length of the string \"Hello World\".\n",
        "a = \"Hellow world\"\n",
        "print(len(a))"
      ],
      "metadata": {
        "colab": {
          "base_uri": "https://localhost:8080/"
        },
        "id": "Qd0TLvABMAn7",
        "outputId": "bfe4b114-d78f-474b-8fd5-9f59ad66b949"
      },
      "execution_count": 3,
      "outputs": [
        {
          "output_type": "stream",
          "name": "stdout",
          "text": [
            "12\n"
          ]
        }
      ]
    },
    {
      "cell_type": "code",
      "source": [
        "#Write a code to slice the first 3 characters from the string \"Python Programming\".\n",
        "a = \"Python Programming\"\n",
        "print(a[0:3])"
      ],
      "metadata": {
        "colab": {
          "base_uri": "https://localhost:8080/"
        },
        "id": "5JFlqRyOMbpV",
        "outputId": "ae79ce25-772b-407f-91a4-f3e1ab1fbc11"
      },
      "execution_count": 4,
      "outputs": [
        {
          "output_type": "stream",
          "name": "stdout",
          "text": [
            "Pyt\n"
          ]
        }
      ]
    },
    {
      "cell_type": "code",
      "source": [
        "# Write a code to convert the string \"hello\" to uppercase.\n",
        "a = \"hello\"\n",
        "a.upper()"
      ],
      "metadata": {
        "colab": {
          "base_uri": "https://localhost:8080/",
          "height": 36
        },
        "id": "RTQq2kxKMif5",
        "outputId": "3a587d72-b978-4012-fb89-43688920fef5"
      },
      "execution_count": 7,
      "outputs": [
        {
          "output_type": "execute_result",
          "data": {
            "text/plain": [
              "'HELLO'"
            ],
            "application/vnd.google.colaboratory.intrinsic+json": {
              "type": "string"
            }
          },
          "metadata": {},
          "execution_count": 7
        }
      ]
    },
    {
      "cell_type": "code",
      "source": [
        "# Write a code to replace the word \"apple\" with \"orange\" in the string \"I like apple\".\n",
        "a = \"I like apple\"\n",
        "a.replace(\"apple\",\"orange\")"
      ],
      "metadata": {
        "colab": {
          "base_uri": "https://localhost:8080/",
          "height": 36
        },
        "id": "b1CykVamMxTM",
        "outputId": "e3ad3628-06ce-4e2e-d519-a3ff7f0588da"
      },
      "execution_count": 8,
      "outputs": [
        {
          "output_type": "execute_result",
          "data": {
            "text/plain": [
              "'I like orange'"
            ],
            "application/vnd.google.colaboratory.intrinsic+json": {
              "type": "string"
            }
          },
          "metadata": {},
          "execution_count": 8
        }
      ]
    },
    {
      "cell_type": "code",
      "source": [
        "# Write a code to create a list with numbers 1 to 5 and print it.\n",
        "lst = []\n",
        "for i in range(1,6):\n",
        "  lst.append(i)\n",
        "print(lst)\n",
        "\n"
      ],
      "metadata": {
        "colab": {
          "base_uri": "https://localhost:8080/"
        },
        "id": "PoGsAEhQM9DG",
        "outputId": "aafdd7a5-3512-4c02-8e2c-db6d2b36a49e"
      },
      "execution_count": 11,
      "outputs": [
        {
          "output_type": "stream",
          "name": "stdout",
          "text": [
            "[1, 2, 3, 4, 5]\n"
          ]
        }
      ]
    },
    {
      "cell_type": "code",
      "source": [
        "#  Write a code to append the number 10 to the list [1, 2, 3, 4].\n",
        "lst = [1,2,3,4]\n",
        "lst.append(10)\n",
        "print(lst)"
      ],
      "metadata": {
        "colab": {
          "base_uri": "https://localhost:8080/"
        },
        "id": "cklpzb2LNrr-",
        "outputId": "5be10fc8-d5c9-41d7-df67-a84632d1fcea"
      },
      "execution_count": 12,
      "outputs": [
        {
          "output_type": "stream",
          "name": "stdout",
          "text": [
            "[1, 2, 3, 4, 10]\n"
          ]
        }
      ]
    },
    {
      "cell_type": "code",
      "source": [
        "# Write a code to remove the number 3 from the list [1, 2, 3, 4, 5].\n",
        "lst = [1,2,3,4,5]\n",
        "lst.remove(3)\n",
        "print(lst)"
      ],
      "metadata": {
        "colab": {
          "base_uri": "https://localhost:8080/"
        },
        "id": "L-OE_S5ANxrI",
        "outputId": "9d85d6e5-3306-4187-ce88-1f5285d28843"
      },
      "execution_count": 13,
      "outputs": [
        {
          "output_type": "stream",
          "name": "stdout",
          "text": [
            "[1, 2, 4, 5]\n"
          ]
        }
      ]
    },
    {
      "cell_type": "code",
      "source": [
        "# Write a code to access the second element in the list ['a', 'b', 'c', 'd'].\n",
        "lst = ['a', 'b', 'c', 'd']\n",
        "print(lst[1])"
      ],
      "metadata": {
        "colab": {
          "base_uri": "https://localhost:8080/"
        },
        "id": "fn0YTAvYN4pq",
        "outputId": "a03f36ce-9a9f-48de-91c9-bf7179102dc0"
      },
      "execution_count": 14,
      "outputs": [
        {
          "output_type": "stream",
          "name": "stdout",
          "text": [
            "b\n"
          ]
        }
      ]
    },
    {
      "cell_type": "code",
      "source": [
        "# Write a code to create a tuple with the elements 100, 200, 300 and print it.\n",
        "tup = (100,200,300)\n",
        "print(tup)"
      ],
      "metadata": {
        "colab": {
          "base_uri": "https://localhost:8080/"
        },
        "id": "8U9N7wuSN9Kg",
        "outputId": "3b38a92c-35fe-4894-cc7b-0157acaa9e0e"
      },
      "execution_count": 15,
      "outputs": [
        {
          "output_type": "stream",
          "name": "stdout",
          "text": [
            "(100, 200, 300)\n"
          ]
        }
      ]
    },
    {
      "cell_type": "code",
      "source": [
        "# Write a code to access the second-to-last element of the tuple ('red', 'green', 'blue', 'yellow').\n",
        "tup = ('red', 'green', 'blue', 'yellow')\n",
        "print(tup[-2])"
      ],
      "metadata": {
        "colab": {
          "base_uri": "https://localhost:8080/"
        },
        "id": "-IeT9IuVOBa3",
        "outputId": "01c62134-19a6-45e7-b93d-68f622660132"
      },
      "execution_count": 16,
      "outputs": [
        {
          "output_type": "stream",
          "name": "stdout",
          "text": [
            "blue\n"
          ]
        }
      ]
    },
    {
      "cell_type": "code",
      "source": [
        "# Write a code to find the minimum number in the tuple (10, 20, 5, 15).\n",
        "tup = (10, 20, 5, 15)\n",
        "print(min(tup))"
      ],
      "metadata": {
        "colab": {
          "base_uri": "https://localhost:8080/"
        },
        "id": "KWkbw8DfOQfE",
        "outputId": "e41263a6-bc35-48cb-b042-1704a782395b"
      },
      "execution_count": 17,
      "outputs": [
        {
          "output_type": "stream",
          "name": "stdout",
          "text": [
            "5\n"
          ]
        }
      ]
    },
    {
      "cell_type": "code",
      "source": [
        "#  Write a code to find the index of the element \"cat\" in the tuple ('dog', 'cat', 'rabbit').\n",
        "tup = ('dog', 'cat', 'rabbit')\n",
        "print(tup.index(\"cat\"))"
      ],
      "metadata": {
        "colab": {
          "base_uri": "https://localhost:8080/"
        },
        "id": "-IGZy9f0OWkz",
        "outputId": "3aea287a-2729-44ba-c20a-abb36f257c89"
      },
      "execution_count": 19,
      "outputs": [
        {
          "output_type": "stream",
          "name": "stdout",
          "text": [
            "1\n"
          ]
        }
      ]
    },
    {
      "cell_type": "code",
      "source": [
        "# Write a code to create a tuple containing three different fruits and check if \"kiwi\" is in it.\n",
        "tup = (\"apple\",\"banana\",\"kiwi\")\n",
        "print(\"kiwi\" in tup)"
      ],
      "metadata": {
        "colab": {
          "base_uri": "https://localhost:8080/"
        },
        "id": "3jVFOG2kOdKq",
        "outputId": "f501a6b2-cf5e-4794-a323-468209a3a772"
      },
      "execution_count": 20,
      "outputs": [
        {
          "output_type": "stream",
          "name": "stdout",
          "text": [
            "True\n"
          ]
        }
      ]
    },
    {
      "cell_type": "code",
      "source": [
        "#  Write a code to create a set with the elements 'a', 'b', 'c' and print it.\n",
        "set = {\"a\",\"b\",\"c\"}\n",
        "print(set)"
      ],
      "metadata": {
        "colab": {
          "base_uri": "https://localhost:8080/"
        },
        "id": "vNO5P-zDOlXz",
        "outputId": "4ddb7e9a-80d1-4119-972e-fff21124b2dd"
      },
      "execution_count": 21,
      "outputs": [
        {
          "output_type": "stream",
          "name": "stdout",
          "text": [
            "{'b', 'c', 'a'}\n"
          ]
        }
      ]
    },
    {
      "cell_type": "code",
      "source": [
        "# Write a code to clear all elements from the set {1, 2, 3, 4, 5}.\n",
        "set = {1, 2, 3, 4, 5}\n",
        "set.clear()\n",
        "print(set)"
      ],
      "metadata": {
        "colab": {
          "base_uri": "https://localhost:8080/"
        },
        "id": "_UNmaM3_Os2s",
        "outputId": "813b0576-0d4a-41e9-dea6-b923eda5d93a"
      },
      "execution_count": 22,
      "outputs": [
        {
          "output_type": "stream",
          "name": "stdout",
          "text": [
            "set()\n"
          ]
        }
      ]
    },
    {
      "cell_type": "code",
      "source": [
        "# Write a code to remove the element 4 from the set {1, 2, 3, 4}.\n",
        "set = {1, 2, 3, 4}\n",
        "set.remove(4)\n",
        "print(set)"
      ],
      "metadata": {
        "colab": {
          "base_uri": "https://localhost:8080/"
        },
        "id": "Ct6zUKzROyp1",
        "outputId": "751be12e-8da2-4713-b63a-7eb697859b4d"
      },
      "execution_count": 23,
      "outputs": [
        {
          "output_type": "stream",
          "name": "stdout",
          "text": [
            "{1, 2, 3}\n"
          ]
        }
      ]
    },
    {
      "cell_type": "code",
      "source": [
        "#  Write a code to find the union of two sets {1, 2, 3} and {3, 4, 5}.\n",
        "set1 = {1, 2, 3}\n",
        "set2 = {3, 4, 5}\n",
        "print(set1.union(set2))"
      ],
      "metadata": {
        "colab": {
          "base_uri": "https://localhost:8080/"
        },
        "id": "8xbDskpvO1Zx",
        "outputId": "e67d4635-3d37-47cf-8bbd-9cc7dd446ee5"
      },
      "execution_count": 24,
      "outputs": [
        {
          "output_type": "stream",
          "name": "stdout",
          "text": [
            "{1, 2, 3, 4, 5}\n"
          ]
        }
      ]
    },
    {
      "cell_type": "code",
      "source": [
        "# Write a code to find the intersection of two sets {1, 2, 3} and {2, 3, 4}.\n",
        "set1 = {1, 2, 3}\n",
        "set2 = {2, 3, 4}\n",
        "print(set1.intersection(set2))"
      ],
      "metadata": {
        "colab": {
          "base_uri": "https://localhost:8080/"
        },
        "id": "Xev6ll-qO60Q",
        "outputId": "74a10821-2278-4f81-a4f0-245d2ca73bef"
      },
      "execution_count": 25,
      "outputs": [
        {
          "output_type": "stream",
          "name": "stdout",
          "text": [
            "{2, 3}\n"
          ]
        }
      ]
    },
    {
      "cell_type": "markdown",
      "source": [],
      "metadata": {
        "id": "-R2_FV1t9DYP"
      }
    },
    {
      "cell_type": "code",
      "source": [
        "# Write a code to create a dictionary with the keys \"name\", \"age\", and \"city\", and print it.\n",
        "a = {\n",
        "    \"name\" : \"Ajay\",\n",
        "    \"age\" : 25,\n",
        "    \"city\" : \"Delhi\"\n",
        "}\n",
        "print(a)"
      ],
      "metadata": {
        "colab": {
          "base_uri": "https://localhost:8080/"
        },
        "id": "Z_pt1dd8O_1p",
        "outputId": "5a3f54d4-a010-47a7-d1cd-472430d3ea81"
      },
      "execution_count": 26,
      "outputs": [
        {
          "output_type": "stream",
          "name": "stdout",
          "text": [
            "{'name': 'Ajay', 'age': 25, 'city': 'Delhi'}\n"
          ]
        }
      ]
    },
    {
      "cell_type": "code",
      "source": [
        "# Write a code to add a new key-value pair \"country\": \"USA\" to the dictionary {'name': 'John', 'age': 25}.\n",
        "a = {'name': 'John', 'age': 25}\n",
        "a[\"country\"] = \"USA\"\n",
        "print(a)"
      ],
      "metadata": {
        "colab": {
          "base_uri": "https://localhost:8080/"
        },
        "id": "79Hc2wgVPa0D",
        "outputId": "87685b49-7de0-4572-c79a-1683cd71f482"
      },
      "execution_count": 27,
      "outputs": [
        {
          "output_type": "stream",
          "name": "stdout",
          "text": [
            "{'name': 'John', 'age': 25, 'country': 'USA'}\n"
          ]
        }
      ]
    },
    {
      "cell_type": "code",
      "source": [
        "#  Write a code to access the value associated with the key \"name\" in the dictionary {'name': 'Alice', 'age': 30}.\n",
        "a = {'name': 'Alice', 'age': 30}\n",
        "print(a[\"name\"])\n"
      ],
      "metadata": {
        "colab": {
          "base_uri": "https://localhost:8080/"
        },
        "id": "CPC9fna5Pf_l",
        "outputId": "c0be3358-2165-4634-e334-552175518487"
      },
      "execution_count": 28,
      "outputs": [
        {
          "output_type": "stream",
          "name": "stdout",
          "text": [
            "Alice\n"
          ]
        }
      ]
    },
    {
      "cell_type": "code",
      "source": [
        " # Write a code to remove the key \"age\" from the dictionary {'name': 'Bob', 'age': 22, 'city': 'New York'}.\n",
        " a = {'name': 'Bob', 'age': 22, 'city': 'New York'}\n",
        " a.pop(\"age\")\n",
        " print(a)"
      ],
      "metadata": {
        "colab": {
          "base_uri": "https://localhost:8080/"
        },
        "id": "es11gd04PsJa",
        "outputId": "0d4e874f-3c66-494b-bf53-8620eb7f3a62"
      },
      "execution_count": 29,
      "outputs": [
        {
          "output_type": "stream",
          "name": "stdout",
          "text": [
            "{'name': 'Bob', 'city': 'New York'}\n"
          ]
        }
      ]
    },
    {
      "cell_type": "code",
      "source": [
        "# Write a code to check if the key \"city\" exists in the dictionary {'name': 'Alice', 'city': 'Paris'}.\n",
        "a = {'name': 'Alice', 'city': 'Paris'}\n",
        "print(\"city\" in a)"
      ],
      "metadata": {
        "colab": {
          "base_uri": "https://localhost:8080/"
        },
        "id": "NgYQ3A-kP00U",
        "outputId": "f3810f7c-5789-42b6-d927-6406b91dafee"
      },
      "execution_count": 30,
      "outputs": [
        {
          "output_type": "stream",
          "name": "stdout",
          "text": [
            "True\n"
          ]
        }
      ]
    },
    {
      "cell_type": "code",
      "source": [
        "#  Write a code to create a list, a tuple, and a dictionary, and print them all.\n",
        "lst = []\n",
        "for i in range(1,6):\n",
        "  lst.append(i)\n",
        "print(lst)"
      ],
      "metadata": {
        "colab": {
          "base_uri": "https://localhost:8080/"
        },
        "id": "bMauqVWKP750",
        "outputId": "09cf5a06-4888-4bd8-c26b-caab368ea686"
      },
      "execution_count": 31,
      "outputs": [
        {
          "output_type": "stream",
          "name": "stdout",
          "text": [
            "[1, 2, 3, 4, 5]\n"
          ]
        }
      ]
    },
    {
      "cell_type": "code",
      "source": [
        "#  Write a code to create a list of 5 random numbers between 1 and 100, sort it in ascending order, and print the result.(replaced).\n",
        "import random\n",
        "lst = []\n",
        "for i in range(5):\n",
        "  lst.append(random.randint(1,100))\n",
        "lst.sort()\n",
        "print(lst)"
      ],
      "metadata": {
        "colab": {
          "base_uri": "https://localhost:8080/"
        },
        "id": "G5yxLvvzP_yC",
        "outputId": "deddbc4d-3449-4ce2-a455-79637d7fbeb4"
      },
      "execution_count": 32,
      "outputs": [
        {
          "output_type": "stream",
          "name": "stdout",
          "text": [
            "[9, 26, 54, 59, 75]\n"
          ]
        }
      ]
    },
    {
      "cell_type": "code",
      "source": [
        "# Write a code to create a list with strings and print the element at the third index.\n",
        "lst = [\"apple\",\"banana\",\"kiwi\",\"orange\",\"mango\"]\n",
        "print(lst[3])"
      ],
      "metadata": {
        "colab": {
          "base_uri": "https://localhost:8080/"
        },
        "id": "rhQ-QdAbQOUm",
        "outputId": "e81b690d-fece-4848-ffa7-69a6898c1dca"
      },
      "execution_count": 33,
      "outputs": [
        {
          "output_type": "stream",
          "name": "stdout",
          "text": [
            "orange\n"
          ]
        }
      ]
    },
    {
      "cell_type": "code",
      "source": [
        "#  Write a code to combine two dictionaries into one and print the result.\n",
        "dict1 = {'a': 1, 'b': 2}\n",
        "dict2 = {'c': 3, 'd': 4}\n",
        "dict1.update(dict2)\n",
        "print(dict1)"
      ],
      "metadata": {
        "colab": {
          "base_uri": "https://localhost:8080/"
        },
        "id": "TwIPSYZdQVZ0",
        "outputId": "5c9af597-bbf1-4b20-ed0a-258fe227ec94"
      },
      "execution_count": 34,
      "outputs": [
        {
          "output_type": "stream",
          "name": "stdout",
          "text": [
            "{'a': 1, 'b': 2, 'c': 3, 'd': 4}\n"
          ]
        }
      ]
    },
    {
      "cell_type": "code",
      "source": [
        "#  Write a code to convert a list of strings into a set.\n",
        "lst = [\"cat\", \"dog\", \"bird\"]\n",
        "unique_elements = frozenset(lst)\n",
        "\n",
        "print(unique_elements)\n"
      ],
      "metadata": {
        "colab": {
          "base_uri": "https://localhost:8080/"
        },
        "id": "4-HBh-VdQZgO",
        "outputId": "da1fbd24-3953-4248-f154-1f2e7744d31e"
      },
      "execution_count": 48,
      "outputs": [
        {
          "output_type": "stream",
          "name": "stdout",
          "text": [
            "frozenset({'dog', 'bird', 'cat'})\n"
          ]
        }
      ]
    }
  ]
}